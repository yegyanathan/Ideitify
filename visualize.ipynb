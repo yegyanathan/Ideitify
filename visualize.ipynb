{
 "cells": [
  {
   "attachments": {},
   "cell_type": "markdown",
   "metadata": {},
   "source": [
    "## Import "
   ]
  },
  {
   "cell_type": "code",
   "execution_count": null,
   "metadata": {},
   "outputs": [],
   "source": [
    "import os\n",
    "import cv2\n",
    "import glob\n",
    "import random\n",
    "import warnings\n",
    "import numpy as np\n",
    "import pandas as pd\n",
    "import matplotlib.pyplot\n",
    "import plotly.express as px\n",
    "import matplotlib.pyplot as plt\n",
    "import matplotlib.image as mpimg\n",
    "\n",
    "from PIL import Image\n",
    "from tqdm.auto import tqdm \n",
    "\n",
    "from sklearn.manifold import TSNE\n",
    "from matplotlib.pyplot import imshow\n",
    "from sklearn.decomposition import PCA\n",
    "from sklearn.feature_extraction import image\n",
    "\n",
    "warnings.filterwarnings(\"ignore\")"
   ]
  },
  {
   "attachments": {},
   "cell_type": "markdown",
   "metadata": {},
   "source": [
    "## Class wise distribution"
   ]
  },
  {
   "cell_type": "code",
   "execution_count": null,
   "metadata": {},
   "outputs": [],
   "source": [
    "cls = os.listdir('data\\\\deities')\n",
    "num_cls = len(cls)\n",
    "\n",
    "print(f\"Number of classes: {num_cls}\")\n",
    "print(f\"Classes: {cls}\")\n",
    "\n",
    "px.bar(\n",
    "    data_frame=pd.DataFrame({\n",
    "        'deities': cls,\n",
    "        'num_imgs': [\n",
    "            len(os.listdir(f\"data\\\\deities\\\\{cl}\")) for cl in cls\n",
    "        ]\n",
    "    }),\n",
    "    x=\"deities\",\n",
    "    y=\"num_imgs\",\n",
    "    color=\"deities\"\n",
    ")"
   ]
  },
  {
   "attachments": {},
   "cell_type": "markdown",
   "metadata": {},
   "source": [
    "There is class imbalance in our dataset. we have to come up with technics to handle it. Else, the mamodel may develope a bias towards the majority classes and perform poorly on the minority classes."
   ]
  },
  {
   "attachments": {},
   "cell_type": "markdown",
   "metadata": {},
   "source": [
    "## Visualize images"
   ]
  },
  {
   "attachments": {},
   "cell_type": "markdown",
   "metadata": {},
   "source": [
    "Let us visualize few images from each of the classes.."
   ]
  },
  {
   "cell_type": "code",
   "execution_count": null,
   "metadata": {},
   "outputs": [],
   "source": [
    "def display_images(deity, n=3):\n",
    "    \"\"\" function to display images of a deity. \"\"\"\n",
    "\n",
    "    assert n % 3 == 0, f\"{n} is not a multiple of 3.\"\n",
    "    assert deity in cls, f\"{deity} isn't a class.\"\n",
    "\n",
    "    imgs = random.sample(glob.glob(f'data\\\\deities\\\\{deity}\\\\*.jpg'), n)\n",
    "    _, axes = plt.subplots(n//3, 3, figsize=(10, 10))\n",
    "\n",
    "    for ax, img in zip(axes.flatten(), imgs):\n",
    "        img = mpimg.imread(img)\n",
    "        ax.imshow(img)\n",
    "\n",
    "    plt.show()\n"
   ]
  },
  {
   "cell_type": "code",
   "execution_count": null,
   "metadata": {},
   "outputs": [],
   "source": [
    "display_images(deity=\"murugan\")"
   ]
  },
  {
   "cell_type": "code",
   "execution_count": null,
   "metadata": {},
   "outputs": [],
   "source": [
    "display_images(deity=\"buddha\")"
   ]
  },
  {
   "cell_type": "code",
   "execution_count": null,
   "metadata": {},
   "outputs": [],
   "source": [
    "display_images(deity=\"ganesha\")"
   ]
  },
  {
   "cell_type": "code",
   "execution_count": null,
   "metadata": {},
   "outputs": [],
   "source": [
    "display_images(\"saraswati\")"
   ]
  },
  {
   "cell_type": "code",
   "execution_count": null,
   "metadata": {},
   "outputs": [],
   "source": [
    "display_images(\"kaali\")"
   ]
  },
  {
   "cell_type": "code",
   "execution_count": null,
   "metadata": {},
   "outputs": [],
   "source": [
    "display_images(\"krishna\")"
   ]
  },
  {
   "cell_type": "code",
   "execution_count": null,
   "metadata": {},
   "outputs": [],
   "source": [
    "display_images(\"sai-baba\")"
   ]
  },
  {
   "cell_type": "code",
   "execution_count": null,
   "metadata": {},
   "outputs": [],
   "source": [
    "display_images(\"shiva\")"
   ]
  },
  {
   "cell_type": "code",
   "execution_count": null,
   "metadata": {},
   "outputs": [],
   "source": [
    "display_images(\"lingam\")"
   ]
  },
  {
   "cell_type": "code",
   "execution_count": null,
   "metadata": {},
   "outputs": [],
   "source": [
    "display_images(deity=\"nataraja\")"
   ]
  },
  {
   "cell_type": "code",
   "execution_count": 14,
   "metadata": {},
   "outputs": [],
   "source": [
    "display_images(\"theerthankaras\")"
   ]
  },
  {
   "attachments": {},
   "cell_type": "markdown",
   "metadata": {},
   "source": [
    "## Distribution of image sizes"
   ]
  },
  {
   "attachments": {},
   "cell_type": "markdown",
   "metadata": {},
   "source": [
    "Analysing the dimensions of the images in our dataset helps us get a sense of the preprocessing steps that might be required"
   ]
  },
  {
   "cell_type": "code",
   "execution_count": null,
   "metadata": {},
   "outputs": [],
   "source": [
    "x, y = [], []\n",
    "folder_path = 'data\\\\deities\\\\'\n",
    "pattern = 'data\\\\deities\\\\*\\\\*' \n",
    "for pth in tqdm(glob.glob('data\\\\deities\\\\*\\\\*')):\n",
    "    img = Image.open(pth)\n",
    "    x_val, y_val = img.size\n",
    "    x.append(x_val)\n",
    "    y.append(y_val)\n",
    "\n",
    "px.scatter(\n",
    "    data_frame=pd.DataFrame(\n",
    "        {\n",
    "            'dim_x': x, \n",
    "            'dim_y': y\n",
    "        }\n",
    "    ),\n",
    "    x='dim_x',\n",
    "    y='dim_y'\n",
    ")"
   ]
  },
  {
   "attachments": {},
   "cell_type": "markdown",
   "metadata": {},
   "source": [
    "The dimensions are all over the place. There are some outliers as well."
   ]
  },
  {
   "cell_type": "code",
   "execution_count": null,
   "metadata": {},
   "outputs": [],
   "source": []
  },
  {
   "attachments": {},
   "cell_type": "markdown",
   "metadata": {},
   "source": [
    "## TSNE plots"
   ]
  },
  {
   "attachments": {},
   "cell_type": "markdown",
   "metadata": {},
   "source": [
    "Let us plot image data in a t-SNE plot. Doing so we can observe how similar or dissimilar images are to each other. It can help in identifying outliers or anomalies in the data. These might be images that are mislabeled, or images that do not fit well within any of the clusters. "
   ]
  },
  {
   "cell_type": "code",
   "execution_count": null,
   "metadata": {},
   "outputs": [],
   "source": [
    "def plot_tsne(deity):\n",
    "    \"\"\" function to display tsne plot of a deity. \"\"\"\n",
    "\n",
    "    assert deity in cls, f\"{deity} isn't a class\"\n",
    "\n",
    "    data = []\n",
    "    folder = f\"data\\\\deities\\\\{deity}\"\n",
    "\n",
    "    for filename in tqdm((os.listdir(folder))):\n",
    "        image = cv2.imread(os.path.join(folder,filename))\n",
    "        if image is not None:\n",
    "            image = cv2.cvtColor(image, cv2.COLOR_BGR2GRAY)\n",
    "            image = cv2.resize(image, (45,45))\n",
    "            image = image.flatten()\n",
    "            data.append([image, os.path.join(folder, filename)])\n",
    "\n",
    "    features, images  = zip(*data)\n",
    "\n",
    "    features = np.array(features)\n",
    "    pca = PCA(n_components=200)\n",
    "    pca.fit(features)\n",
    "    pca_features = pca.transform(features)\n",
    "\n",
    "    num_images_to_plot = len(images)\n",
    "\n",
    "    if len(images) > num_images_to_plot:\n",
    "        sort_order = sorted(random.sample(range(len(images)), num_images_to_plot))\n",
    "        images = [images[i] for i in sort_order]\n",
    "        pca_features = [pca_features[i] for i in sort_order]\n",
    "\n",
    "    X = np.array(pca_features)\n",
    "    tsne = TSNE(n_components=2, learning_rate=350, perplexity=30, angle=0.2, verbose=2).fit_transform(X)\n",
    "\n",
    "    tx, ty = tsne[:,0], tsne[:,1]\n",
    "    tx = (tx-np.min(tx)) / (np.max(tx) - np.min(tx))\n",
    "    ty = (ty-np.min(ty)) / (np.max(ty) - np.min(ty))\n",
    "\n",
    "\n",
    "    width = 4000\n",
    "    height = 3000\n",
    "    max_dim = 100\n",
    "\n",
    "    full_image = Image.new('RGBA', (width, height))\n",
    "    for img, x, y in zip(images, tx, ty):\n",
    "        tile = Image.open(img)\n",
    "        rs = max(1, tile.width/max_dim, tile.height/max_dim)\n",
    "        tile = tile.resize((int(tile.width/rs), int(tile.height/rs)), Image.ANTIALIAS)\n",
    "        full_image.paste(tile, (int((width-max_dim)*x), int((height-max_dim)*y)), mask=tile.convert('RGBA'))\n",
    "\n",
    "    matplotlib.pyplot.figure(figsize = (16,12))\n",
    "    imshow(full_image)"
   ]
  },
  {
   "cell_type": "code",
   "execution_count": null,
   "metadata": {},
   "outputs": [],
   "source": [
    "plot_tsne(deity=\"krishna\")"
   ]
  },
  {
   "cell_type": "code",
   "execution_count": null,
   "metadata": {},
   "outputs": [],
   "source": [
    "plot_tsne(deity=\"shiva\")"
   ]
  },
  {
   "cell_type": "code",
   "execution_count": null,
   "metadata": {},
   "outputs": [],
   "source": [
    "plot_tsne(deity=\"ayyappa\")"
   ]
  },
  {
   "attachments": {},
   "cell_type": "markdown",
   "metadata": {},
   "source": [
    "Here, we can observe there two clusters. The cluster from bottom right has images with white background.."
   ]
  },
  {
   "cell_type": "code",
   "execution_count": null,
   "metadata": {},
   "outputs": [],
   "source": [
    "plot_tsne(deity=\"ganesha\")"
   ]
  },
  {
   "cell_type": "code",
   "execution_count": null,
   "metadata": {},
   "outputs": [],
   "source": [
    "plot_tsne(deity=\"lingam\")"
   ]
  },
  {
   "attachments": {},
   "cell_type": "markdown",
   "metadata": {},
   "source": [
    "The cluster from top right has images with plain background.."
   ]
  },
  {
   "cell_type": "code",
   "execution_count": null,
   "metadata": {},
   "outputs": [],
   "source": [
    "plot_tsne(deity=\"hanuman\")"
   ]
  }
 ],
 "metadata": {
  "kernelspec": {
   "display_name": "nn",
   "language": "python",
   "name": "python3"
  },
  "language_info": {
   "codemirror_mode": {
    "name": "ipython",
    "version": 3
   },
   "file_extension": ".py",
   "mimetype": "text/x-python",
   "name": "python",
   "nbconvert_exporter": "python",
   "pygments_lexer": "ipython3",
   "version": "3.9.13"
  },
  "orig_nbformat": 4
 },
 "nbformat": 4,
 "nbformat_minor": 2
}
